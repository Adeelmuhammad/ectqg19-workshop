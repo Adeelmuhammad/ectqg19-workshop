{
 "cells": [
  {
   "cell_type": "markdown",
   "metadata": {},
   "source": [
    "# Python and R holding hands"
   ]
  },
  {
   "cell_type": "code",
   "execution_count": 1,
   "metadata": {},
   "outputs": [],
   "source": [
    "%load_ext rpy2.ipython"
   ]
  },
  {
   "cell_type": "markdown",
   "metadata": {},
   "source": [
    "## Regression"
   ]
  },
  {
   "cell_type": "markdown",
   "metadata": {},
   "source": [
    "### Python"
   ]
  },
  {
   "cell_type": "code",
   "execution_count": 2,
   "metadata": {},
   "outputs": [
    {
     "data": {
      "text/html": [
       "<table class=\"simpletable\">\n",
       "<caption>OLS Regression Results</caption>\n",
       "<tr>\n",
       "  <th>Dep. Variable:</th>       <td>POPULATION</td>    <th>  R-squared:         </th> <td>   0.514</td>\n",
       "</tr>\n",
       "<tr>\n",
       "  <th>Model:</th>                   <td>OLS</td>       <th>  Adj. R-squared:    </th> <td>   0.504</td>\n",
       "</tr>\n",
       "<tr>\n",
       "  <th>Method:</th>             <td>Least Squares</td>  <th>  F-statistic:       </th> <td>   52.28</td>\n",
       "</tr>\n",
       "<tr>\n",
       "  <th>Date:</th>             <td>Thu, 05 Sep 2019</td> <th>  Prob (F-statistic):</th> <td>3.19e-16</td>\n",
       "</tr>\n",
       "<tr>\n",
       "  <th>Time:</th>                 <td>01:19:54</td>     <th>  Log-Likelihood:    </th> <td> -1067.5</td>\n",
       "</tr>\n",
       "<tr>\n",
       "  <th>No. Observations:</th>      <td>   102</td>      <th>  AIC:               </th> <td>   2141.</td>\n",
       "</tr>\n",
       "<tr>\n",
       "  <th>Df Residuals:</th>          <td>    99</td>      <th>  BIC:               </th> <td>   2149.</td>\n",
       "</tr>\n",
       "<tr>\n",
       "  <th>Df Model:</th>              <td>     2</td>      <th>                     </th>     <td> </td>   \n",
       "</tr>\n",
       "<tr>\n",
       "  <th>Covariance Type:</th>      <td>nonrobust</td>    <th>                     </th>     <td> </td>   \n",
       "</tr>\n",
       "</table>\n",
       "<table class=\"simpletable\">\n",
       "<tr>\n",
       "       <td></td>          <th>coef</th>     <th>std err</th>      <th>t</th>      <th>P>|t|</th>  <th>[0.025</th>    <th>0.975]</th>  \n",
       "</tr>\n",
       "<tr>\n",
       "  <th>Intercept</th>   <td>-6691.0307</td> <td> 1555.342</td> <td>   -4.302</td> <td> 0.000</td> <td>-9777.167</td> <td>-3604.895</td>\n",
       "</tr>\n",
       "<tr>\n",
       "  <th>light_level</th> <td>   11.6880</td> <td>    1.210</td> <td>    9.659</td> <td> 0.000</td> <td>    9.287</td> <td>   14.089</td>\n",
       "</tr>\n",
       "<tr>\n",
       "  <th>tree_count</th>  <td>    1.1264</td> <td>  161.222</td> <td>    0.007</td> <td> 0.994</td> <td> -318.772</td> <td>  321.025</td>\n",
       "</tr>\n",
       "</table>\n",
       "<table class=\"simpletable\">\n",
       "<tr>\n",
       "  <th>Omnibus:</th>       <td>95.892</td> <th>  Durbin-Watson:     </th> <td>   2.322</td>\n",
       "</tr>\n",
       "<tr>\n",
       "  <th>Prob(Omnibus):</th> <td> 0.000</td> <th>  Jarque-Bera (JB):  </th> <td>1813.538</td>\n",
       "</tr>\n",
       "<tr>\n",
       "  <th>Skew:</th>          <td> 2.765</td> <th>  Prob(JB):          </th> <td>    0.00</td>\n",
       "</tr>\n",
       "<tr>\n",
       "  <th>Kurtosis:</th>      <td>22.903</td> <th>  Cond. No.          </th> <td>2.39e+03</td>\n",
       "</tr>\n",
       "</table><br/><br/>Warnings:<br/>[1] Standard Errors assume that the covariance matrix of the errors is correctly specified.<br/>[2] The condition number is large, 2.39e+03. This might indicate that there are<br/>strong multicollinearity or other numerical problems."
      ],
      "text/plain": [
       "<class 'statsmodels.iolib.summary.Summary'>\n",
       "\"\"\"\n",
       "                            OLS Regression Results                            \n",
       "==============================================================================\n",
       "Dep. Variable:             POPULATION   R-squared:                       0.514\n",
       "Model:                            OLS   Adj. R-squared:                  0.504\n",
       "Method:                 Least Squares   F-statistic:                     52.28\n",
       "Date:                Thu, 05 Sep 2019   Prob (F-statistic):           3.19e-16\n",
       "Time:                        01:19:54   Log-Likelihood:                -1067.5\n",
       "No. Observations:                 102   AIC:                             2141.\n",
       "Df Residuals:                      99   BIC:                             2149.\n",
       "Df Model:                           2                                         \n",
       "Covariance Type:            nonrobust                                         \n",
       "===============================================================================\n",
       "                  coef    std err          t      P>|t|      [0.025      0.975]\n",
       "-------------------------------------------------------------------------------\n",
       "Intercept   -6691.0307   1555.342     -4.302      0.000   -9777.167   -3604.895\n",
       "light_level    11.6880      1.210      9.659      0.000       9.287      14.089\n",
       "tree_count      1.1264    161.222      0.007      0.994    -318.772     321.025\n",
       "==============================================================================\n",
       "Omnibus:                       95.892   Durbin-Watson:                   2.322\n",
       "Prob(Omnibus):                  0.000   Jarque-Bera (JB):             1813.538\n",
       "Skew:                           2.765   Prob(JB):                         0.00\n",
       "Kurtosis:                      22.903   Cond. No.                     2.39e+03\n",
       "==============================================================================\n",
       "\n",
       "Warnings:\n",
       "[1] Standard Errors assume that the covariance matrix of the errors is correctly specified.\n",
       "[2] The condition number is large, 2.39e+03. This might indicate that there are\n",
       "strong multicollinearity or other numerical problems.\n",
       "\"\"\""
      ]
     },
     "execution_count": 2,
     "metadata": {},
     "output_type": "execute_result"
    }
   ],
   "source": [
    "import geopandas\n",
    "import statsmodels.formula.api as sm\n",
    "\n",
    "db = geopandas.read_file(\"../data/lux_regions.gpkg\")\n",
    "m = sm.ols(\"POPULATION ~ light_level + tree_count\", db).fit()\n",
    "m.summary()"
   ]
  },
  {
   "cell_type": "markdown",
   "metadata": {},
   "source": [
    "### R"
   ]
  },
  {
   "cell_type": "code",
   "execution_count": 3,
   "metadata": {},
   "outputs": [],
   "source": [
    "tor = db[[\"POPULATION\", \"light_level\", \"tree_count\"]]\n",
    "%Rpush tor"
   ]
  },
  {
   "cell_type": "code",
   "execution_count": 4,
   "metadata": {},
   "outputs": [
    {
     "name": "stdout",
     "output_type": "stream",
     "text": [
      "\n",
      "Call:\n",
      "lm(formula = \"POPULATION ~ light_level + tree_count\", data = tor)\n",
      "\n",
      "Residuals:\n",
      "   Min     1Q Median     3Q    Max \n",
      "-26644  -2996    197   2743  57374 \n",
      "\n",
      "Coefficients:\n",
      "             Estimate Std. Error t value Pr(>|t|)    \n",
      "(Intercept) -6691.031   1555.342  -4.302 3.98e-05 ***\n",
      "light_level    11.688      1.210   9.659 6.06e-16 ***\n",
      "tree_count      1.126    161.222   0.007    0.994    \n",
      "---\n",
      "Signif. codes:  0 ‘***’ 0.001 ‘**’ 0.01 ‘*’ 0.05 ‘.’ 0.1 ‘ ’ 1\n",
      "\n",
      "Residual standard error: 8616 on 99 degrees of freedom\n",
      "Multiple R-squared:  0.5137,\tAdjusted R-squared:  0.5038 \n",
      "F-statistic: 52.28 on 2 and 99 DF,  p-value: 3.187e-16\n",
      "\n"
     ]
    }
   ],
   "source": [
    "%%R\n",
    "m <- lm(\"POPULATION ~ light_level + tree_count\", tor)\n",
    "summary(m)"
   ]
  },
  {
   "cell_type": "markdown",
   "metadata": {},
   "source": [
    "### Bring together"
   ]
  },
  {
   "cell_type": "code",
   "execution_count": 5,
   "metadata": {},
   "outputs": [
    {
     "data": {
      "text/html": [
       "<div>\n",
       "<style scoped>\n",
       "    .dataframe tbody tr th:only-of-type {\n",
       "        vertical-align: middle;\n",
       "    }\n",
       "\n",
       "    .dataframe tbody tr th {\n",
       "        vertical-align: top;\n",
       "    }\n",
       "\n",
       "    .dataframe thead th {\n",
       "        text-align: right;\n",
       "    }\n",
       "</style>\n",
       "<table border=\"1\" class=\"dataframe\">\n",
       "  <thead>\n",
       "    <tr style=\"text-align: right;\">\n",
       "      <th></th>\n",
       "      <th>coefficients(m)</th>\n",
       "    </tr>\n",
       "  </thead>\n",
       "  <tbody>\n",
       "    <tr>\n",
       "      <th>(Intercept)</th>\n",
       "      <td>-6691.030743</td>\n",
       "    </tr>\n",
       "    <tr>\n",
       "      <th>light_level</th>\n",
       "      <td>11.687962</td>\n",
       "    </tr>\n",
       "    <tr>\n",
       "      <th>tree_count</th>\n",
       "      <td>1.126376</td>\n",
       "    </tr>\n",
       "  </tbody>\n",
       "</table>\n",
       "</div>"
      ],
      "text/plain": [
       "             coefficients(m)\n",
       "(Intercept)     -6691.030743\n",
       "light_level        11.687962\n",
       "tree_count          1.126376"
      ]
     },
     "execution_count": 5,
     "metadata": {},
     "output_type": "execute_result"
    }
   ],
   "source": [
    "betas_r = %R betas <- as.data.frame(coefficients(m))\n",
    "betas_r"
   ]
  },
  {
   "cell_type": "code",
   "execution_count": 6,
   "metadata": {},
   "outputs": [
    {
     "data": {
      "text/plain": [
       "(Intercept)   -6691.030743\n",
       "light_level      11.687962\n",
       "tree_count        1.126376\n",
       "dtype: float64"
      ]
     },
     "execution_count": 6,
     "metadata": {},
     "output_type": "execute_result"
    }
   ],
   "source": [
    "betas_python = m.params.rename({\"Intercept\": \"(Intercept)\"})\n",
    "betas_python"
   ]
  },
  {
   "cell_type": "code",
   "execution_count": 7,
   "metadata": {},
   "outputs": [
    {
     "data": {
      "text/html": [
       "<div>\n",
       "<style scoped>\n",
       "    .dataframe tbody tr th:only-of-type {\n",
       "        vertical-align: middle;\n",
       "    }\n",
       "\n",
       "    .dataframe tbody tr th {\n",
       "        vertical-align: top;\n",
       "    }\n",
       "\n",
       "    .dataframe thead th {\n",
       "        text-align: right;\n",
       "    }\n",
       "</style>\n",
       "<table border=\"1\" class=\"dataframe\">\n",
       "  <thead>\n",
       "    <tr style=\"text-align: right;\">\n",
       "      <th></th>\n",
       "      <th>coefficients(m)</th>\n",
       "      <th>betas_py</th>\n",
       "    </tr>\n",
       "  </thead>\n",
       "  <tbody>\n",
       "    <tr>\n",
       "      <th>(Intercept)</th>\n",
       "      <td>-6691.030743</td>\n",
       "      <td>-6691.030743</td>\n",
       "    </tr>\n",
       "    <tr>\n",
       "      <th>light_level</th>\n",
       "      <td>11.687962</td>\n",
       "      <td>11.687962</td>\n",
       "    </tr>\n",
       "    <tr>\n",
       "      <th>tree_count</th>\n",
       "      <td>1.126376</td>\n",
       "      <td>1.126376</td>\n",
       "    </tr>\n",
       "  </tbody>\n",
       "</table>\n",
       "</div>"
      ],
      "text/plain": [
       "             coefficients(m)     betas_py\n",
       "(Intercept)     -6691.030743 -6691.030743\n",
       "light_level        11.687962    11.687962\n",
       "tree_count          1.126376     1.126376"
      ]
     },
     "execution_count": 7,
     "metadata": {},
     "output_type": "execute_result"
    }
   ],
   "source": [
    "betas_r.assign(betas_py=betas_python)"
   ]
  }
 ],
 "metadata": {
  "kernelspec": {
   "display_name": "Python 3",
   "language": "python",
   "name": "python3"
  },
  "language_info": {
   "codemirror_mode": {
    "name": "ipython",
    "version": 3
   },
   "file_extension": ".py",
   "mimetype": "text/x-python",
   "name": "python",
   "nbconvert_exporter": "python",
   "pygments_lexer": "ipython3",
   "version": "3.7.3"
  }
 },
 "nbformat": 4,
 "nbformat_minor": 4
}
